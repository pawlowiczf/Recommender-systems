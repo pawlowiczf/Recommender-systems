{
 "cells": [
  {
   "cell_type": "markdown",
   "metadata": {},
   "source": [
    "# Laboratorium 1 - analiza koszykowa\n",
    "\n",
    "## Przygotowanie\n",
    "\n",
    " * pobierz i wypakuj dataset: https://kaggle.com/datasets/rashikrahmanpritom/groceries-dataset-for-market-basket-analysismba?resource=download&select=basket.csv\n",
    "   * alternatywnie, pobierz plik `basket.csv` z Teamsów\n",
    " * [opcjonalnie] Utwórz wirtualne środowisko\n",
    " `python3 -m venv ./recsyslab1`\n",
    " * zainstaluj potrzebne biblioteki:\n",
    " `pip install more-itertools`"
   ]
  },
  {
   "cell_type": "markdown",
   "metadata": {},
   "source": [
    "## Część 1. - przygotowanie danych"
   ]
  },
  {
   "cell_type": "code",
   "execution_count": null,
   "metadata": {},
   "outputs": [],
   "source": [
    "# importujemy wszystkie potrzebne pakiety\n",
    "\n",
    "from itertools import chain, combinations\n",
    "\n",
    "from tqdm import tqdm"
   ]
  },
  {
   "cell_type": "code",
   "execution_count": 4,
   "metadata": {},
   "outputs": [],
   "source": [
    "# definiujemy stale\n",
    "\n",
    "PATH = './basket.csv'\n",
    "EPSILON = 0.001\n",
    "K = 4"
   ]
  },
  {
   "cell_type": "code",
   "execution_count": 5,
   "metadata": {},
   "outputs": [],
   "source": [
    "# wczytujemy dane o koszykach\n",
    "\n",
    "def read_baskets(path: str) -> list[tuple[str]]:\n",
    "    with open(path) as f:\n",
    "        raw = f.read()\n",
    "    baskets = [set([y.lower() for y in x.split(',') if y]) for x in raw.split('\\n')[1:] if x]\n",
    "    return baskets\n",
    "\n",
    "def unique_products(baskets: list[tuple[str]]) -> list[str]:\n",
    "    products = set()\n",
    "    for basket in baskets:\n",
    "        products.update(basket)\n",
    "    return sorted(list(products))\n",
    "\n",
    "baskets = read_baskets(PATH)\n",
    "products = unique_products(baskets)"
   ]
  },
  {
   "cell_type": "markdown",
   "metadata": {},
   "source": [
    "## Część 2. - obliczanie wskaźników"
   ]
  },
  {
   "cell_type": "code",
   "execution_count": 21,
   "metadata": {},
   "outputs": [
    {
     "name": "stderr",
     "output_type": "stream",
     "text": [
      "1476it [00:51, 28.75it/s]\n"
     ]
    },
    {
     "ename": "KeyboardInterrupt",
     "evalue": "",
     "output_type": "error",
     "traceback": [
      "\u001b[31m---------------------------------------------------------------------------\u001b[39m",
      "\u001b[31mKeyboardInterrupt\u001b[39m                         Traceback (most recent call last)",
      "\u001b[36mCell\u001b[39m\u001b[36m \u001b[39m\u001b[32mIn[21]\u001b[39m\u001b[32m, line 38\u001b[39m\n\u001b[32m     35\u001b[39m     \u001b[38;5;28;01mreturn\u001b[39;00m supports \n\u001b[32m     36\u001b[39m \u001b[38;5;66;03m#\u001b[39;00m\n\u001b[32m---> \u001b[39m\u001b[32m38\u001b[39m supports = \u001b[43mget_supports\u001b[49m\u001b[43m(\u001b[49m\u001b[43mbaskets\u001b[49m\u001b[43m,\u001b[49m\u001b[43m \u001b[49m\u001b[43mproducts\u001b[49m\u001b[43m,\u001b[49m\u001b[43m \u001b[49m\u001b[43mEPSILON\u001b[49m\u001b[43m)\u001b[49m\n\u001b[32m     39\u001b[39m supports\n",
      "\u001b[36mCell\u001b[39m\u001b[36m \u001b[39m\u001b[32mIn[21]\u001b[39m\u001b[32m, line 32\u001b[39m, in \u001b[36mget_supports\u001b[39m\u001b[34m(baskets, all_products, epsilon)\u001b[39m\n\u001b[32m     30\u001b[39m             \u001b[38;5;28;01mfor\u001b[39;00m extra \u001b[38;5;129;01min\u001b[39;00m combinations(remaining_items, r):\n\u001b[32m     31\u001b[39m                 key = \u001b[33m'\u001b[39m\u001b[33m'\u001b[39m.join(\u001b[38;5;28msorted\u001b[39m(product_set + extra))\n\u001b[32m---> \u001b[39m\u001b[32m32\u001b[39m                 supports[key] = epsilon\n\u001b[32m     33\u001b[39m     \u001b[38;5;66;03m#\u001b[39;00m\n\u001b[32m     34\u001b[39m \u001b[38;5;66;03m#\u001b[39;00m\n\u001b[32m     35\u001b[39m \u001b[38;5;28;01mreturn\u001b[39;00m supports\n",
      "\u001b[31mKeyboardInterrupt\u001b[39m: "
     ]
    }
   ],
   "source": [
    "# obliczamy strukture danych (np. slownik albo graf) przechowujaca wszystkie interesujace wartosci `support`\n",
    "\n",
    "def powerset(iterable, max_len=None):\n",
    "    s = list(iterable)\n",
    "    max_len = max_len or len(s)\n",
    "    return chain.from_iterable(combinations(s, r) for r in range(1, max_len + 1))\n",
    "\n",
    "def get_supports(baskets: list[tuple[str]], all_products: list[str], epsilon: float):\n",
    "    baskets = [set(b) for b in baskets]\n",
    "    \n",
    "    N = len(baskets)\n",
    "    supports = dict()\n",
    "    \n",
    "    for product_set in tqdm(powerset(all_products, K)):\n",
    "        key = ''.join(sorted(product_set))\n",
    "        if key in supports: continue \n",
    "\n",
    "        counter = 0\n",
    "        for basket in baskets:\n",
    "            if set(product_set).issubset(set(basket)):\n",
    "                counter += 1\n",
    "        #\n",
    "\n",
    "        value = counter / N\n",
    "        supports[key] = value if value > epsilon else epsilon\n",
    "\n",
    "        if value <= epsilon:\n",
    "            remaining_items = [p for p in all_products if p not in product_set]\n",
    "            for r in range(1, K - len(product_set) + 1):\n",
    "                for extra in combinations(remaining_items, r):\n",
    "                    key = ''.join(sorted(product_set + extra))\n",
    "                    supports[key] = epsilon\n",
    "        #\n",
    "    #\n",
    "    return supports \n",
    "#\n",
    "    \n",
    "supports = get_supports(baskets, products, EPSILON)\n",
    "supports"
   ]
  },
  {
   "cell_type": "code",
   "execution_count": null,
   "metadata": {},
   "outputs": [],
   "source": [
    "from joblib import dump, load\n",
    "import os \n",
    "\n",
    "if os.path.exists(\"supports.joblib\"):\n",
    "    supports = load(\"supports.joblib\")\n",
    "else:\n",
    "    dump(supports, \"supports.joblib\")"
   ]
  },
  {
   "cell_type": "code",
   "execution_count": null,
   "metadata": {},
   "outputs": [],
   "source": [
    "# definiujemy funkcje obliczajace support, confidence i lift\n",
    "\n",
    "def support(supports, products: tuple[str]) -> float:\n",
    "    key = ''.join(sorted(products))\n",
    "    return supports.get(key, EPSILON)\n",
    "#\n",
    "\n",
    "def confidence(supports, prior_products: tuple[str], following_products: tuple[str]) -> float:\n",
    "    key_prior_products = ''.join(sorted(prior_products))\n",
    "    support_prior_products = supports.get(key_prior_products, EPSILON)\n",
    "\n",
    "    key_combined_products = ''.join(sorted(list(prior_products) + list(following_products)))\n",
    "    support_combined_products = supports.get(key_combined_products, EPSILON)\n",
    "\n",
    "    return support_combined_products / support_prior_products\n",
    "#\n",
    "\n",
    "def lift(supports, prior_products: tuple[str], following_products: tuple[str]) -> float:\n",
    "    key_combined_products = ''.join(sorted(list(prior_products) + list(following_products)))\n",
    "    support_combined_products = supports.get(key_combined_products, EPSILON)\n",
    "\n",
    "    key_prior_products = ''.join(sorted(prior_products))\n",
    "    support_prior_products = supports.get(key_prior_products, EPSILON)       \n",
    "\n",
    "    key_following_products = ''.join(sorted(following_products))\n",
    "    support_following_products = supports.get(key_following_products, EPSILON) \n",
    "\n",
    "    return support_combined_products / (support_prior_products + support_following_products)\n",
    "#"
   ]
  },
  {
   "cell_type": "code",
   "execution_count": null,
   "metadata": {},
   "outputs": [],
   "source": [
    "print(support(supports, {'whole milk', 'rolls/buns'}))\n",
    "print(confidence(supports, {'whole milk', 'rolls/buns'}, {'yogurt'}))\n",
    "print(lift(supports, {'whole milk', 'rolls/buns'}, {'yogurt'}))"
   ]
  },
  {
   "cell_type": "markdown",
   "metadata": {},
   "source": [
    "## Część 3. - generowanie rekomendacji"
   ]
  },
  {
   "cell_type": "code",
   "execution_count": null,
   "metadata": {},
   "outputs": [],
   "source": [
    "# wyznaczamy liste potencjalnych rekomendacji\n",
    "# rekomendowane artykuly powinny miec lift > 1 i jak najwyzszy confidence\n",
    "\n",
    "def generate_basic_candidates(basket: tuple[str], products: list[str], supports) -> list[tuple[str, tuple[str], float, float]]:\n",
    "    # return [(item, subbasket, confidence, lift)]\n",
    "    all_basket_sets = powerset(basket, K - 1)\n",
    "    recommended_products = []\n",
    "\n",
    "    for basket_set in all_basket_sets:\n",
    "        for product in products:\n",
    "            confidenceValue = confidence(supports, basket_set, {product})\n",
    "\n",
    "            liftValue = lift(supports, basket_set, product)\n",
    "            if liftValue <= 1: continue \n",
    "\n",
    "            recommended_products.append({product, basket_set, confidenceValue, liftValue})\n",
    "        #\n",
    "    #\n",
    "    return recommended_products \n",
    "#\n"
   ]
  },
  {
   "cell_type": "code",
   "execution_count": null,
   "metadata": {},
   "outputs": [],
   "source": [
    "# zaproponuj drugi, bardziej zaawansowany algorytm, np.:\n",
    "# - jesli produkt X wystepuje w liscie kandydatow kilkukrotnie, oblicz srednia lub iloczyn confidence\n",
    "# - posortuj kandydatow po iloczynie configence i lift\n",
    "\n",
    "def generate_advanced_candidates(basket: tuple[str], products: list[str], supports) -> list[tuple[str, tuple[str], float, float]]:\n",
    "    # return [(item, subbasket, confidence, lift)]\n",
    "    raise NotImplementedError()"
   ]
  },
  {
   "cell_type": "code",
   "execution_count": null,
   "metadata": {},
   "outputs": [],
   "source": [
    "print(baskets[1])\n",
    "generate_basic_candidates(baskets[1], products, supports)\n",
    "generate_advanced_candidates(baskets[1], products, supports)"
   ]
  },
  {
   "cell_type": "code",
   "execution_count": null,
   "metadata": {},
   "outputs": [],
   "source": [
    "print(baskets[33])\n",
    "generate_basic_candidates(baskets[33], products, supports)\n",
    "generate_advanced_candidates(baskets[33], products, supports)"
   ]
  }
 ],
 "metadata": {
  "kernelspec": {
   "display_name": "recsyslab1",
   "language": "python",
   "name": "python3"
  },
  "language_info": {
   "codemirror_mode": {
    "name": "ipython",
    "version": 3
   },
   "file_extension": ".py",
   "mimetype": "text/x-python",
   "name": "python",
   "nbconvert_exporter": "python",
   "pygments_lexer": "ipython3",
   "version": "3.11.0"
  }
 },
 "nbformat": 4,
 "nbformat_minor": 4
}
